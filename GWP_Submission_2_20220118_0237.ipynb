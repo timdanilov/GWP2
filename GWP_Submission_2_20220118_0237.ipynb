{
  "nbformat": 4,
  "nbformat_minor": 0,
  "metadata": {
    "colab": {
      "name": "GWP_Submission_2_20220118 0237.ipynb",
      "provenance": [],
      "toc_visible": true,
      "include_colab_link": true
    },
    "kernelspec": {
      "name": "python3",
      "display_name": "Python 3"
    },
    "language_info": {
      "name": "python"
    }
  },
  "cells": [
    {
      "cell_type": "markdown",
      "metadata": {
        "id": "view-in-github",
        "colab_type": "text"
      },
      "source": [
        "<a href=\"https://colab.research.google.com/github/timdanilov/GWP2/blob/main/GWP_Submission_2_20220118_0237.ipynb\" target=\"_parent\"><img src=\"https://colab.research.google.com/assets/colab-badge.svg\" alt=\"Open In Colab\"/></a>"
      ]
    },
    {
      "cell_type": "markdown",
      "source": [
        "# Context: Assume you are an Alternative Investments (gold and/or bitcoin) Portfolio Manager. Then the world was impacted by a pandemic. Compare 3 asset classes during COVID-19. "
      ],
      "metadata": {
        "id": "GrNz96pPKxGi"
      }
    },
    {
      "cell_type": "markdown",
      "source": [
        "# Steps 1 through 7 must be done using Python in a Jupyter notebook or R knitted file. Be sure to explicitly show output, either numerically or visually, whichever seems more appropriate.\n",
        "See the \"Rubric\" and \"Submission Checklist\" tab for more details. "
      ],
      "metadata": {
        "id": "ybavIMRmKy3o"
      }
    },
    {
      "cell_type": "markdown",
      "source": [
        "# 0 Selecting a data set"
      ],
      "metadata": {
        "id": "GH4rBWxBK_gx"
      }
    },
    {
      "cell_type": "markdown",
      "source": [
        "## 0.1 Select a gold Exchange Traded Fund."
      ],
      "metadata": {
        "id": "tyG_qArmMYT7"
      }
    },
    {
      "cell_type": "markdown",
      "source": [
        "## 0.2 Select an equity ETF from outside the US"
      ],
      "metadata": {
        "id": "ZpUr2EhMMkrs"
      }
    },
    {
      "cell_type": "markdown",
      "source": [
        "## 0.3 Select bitcoin."
      ],
      "metadata": {
        "id": "9W9kFfpLMlyH"
      }
    },
    {
      "cell_type": "markdown",
      "source": [
        "# 1 Data Importing"
      ],
      "metadata": {
        "id": "Gvvr570nNlcp"
      }
    },
    {
      "cell_type": "markdown",
      "source": [
        "# 2 Data Processing"
      ],
      "metadata": {
        "id": "A6q5q4JyNp-D"
      }
    },
    {
      "cell_type": "markdown",
      "source": [
        "# 3 Data Summaries"
      ],
      "metadata": {
        "id": "li1ZMMacOAHG"
      }
    },
    {
      "cell_type": "markdown",
      "source": [
        "# 4 "
      ],
      "metadata": {
        "id": "lgRHDW8sOEg3"
      }
    },
    {
      "cell_type": "markdown",
      "source": [
        "# 5"
      ],
      "metadata": {
        "id": "Kr6pWogYOjvy"
      }
    },
    {
      "cell_type": "markdown",
      "source": [
        "# 6"
      ],
      "metadata": {
        "id": "DWiLcRlkO5Oo"
      }
    },
    {
      "cell_type": "markdown",
      "source": [
        "# 7"
      ],
      "metadata": {
        "id": "ZB3GhIafO7Bb"
      }
    },
    {
      "cell_type": "markdown",
      "source": [
        "# 8"
      ],
      "metadata": {
        "id": "QxR6op9qO-1t"
      }
    }
  ]
}